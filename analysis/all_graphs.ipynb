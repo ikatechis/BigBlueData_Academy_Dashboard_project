{
 "cells": [
  {
   "cell_type": "code",
   "execution_count": null,
   "id": "08fe1c9b-2182-4f65-8a5a-397c673a1e37",
   "metadata": {},
   "outputs": [],
   "source": [
    "import pandas as pd\n",
    "import numpy as np\n",
    "import matplotlib.pyplot as plt\n",
    "import seaborn as sns\n",
    "import plotly.express as px\n",
    "import plotly.graph_objects as go"
   ]
  },
  {
   "cell_type": "code",
   "execution_count": null,
   "id": "22cc697c-d83d-4d00-b93a-5c54cd9a2752",
   "metadata": {},
   "outputs": [],
   "source": [
    "pd.options.display.max_columns = 50\n",
    "pd.options.display.max_colwidth = 100\n",
    "pd.options.display.max_rows = 500"
   ]
  },
  {
   "cell_type": "code",
   "execution_count": null,
   "id": "5d952893-3eaa-4018-b19c-d578c6c0328c",
   "metadata": {},
   "outputs": [],
   "source": [
    "# Data with ingredient counts per year\n",
    "df = pd.read_csv('../data/ingredient_data.csv')"
   ]
  },
  {
   "cell_type": "code",
   "execution_count": null,
   "id": "28a98fe4-ac80-499d-8f0c-077bbb27090c",
   "metadata": {},
   "outputs": [],
   "source": [
    "df.head(1)"
   ]
  },
  {
   "cell_type": "code",
   "execution_count": null,
   "id": "651d2c0d-0447-48f1-a2ce-4325c10edbff",
   "metadata": {},
   "outputs": [],
   "source": [
    "# Data with recipes counts per year\n",
    "df1 = pd.read_csv('../data/recipes_per_year.csv')"
   ]
  },
  {
   "cell_type": "code",
   "execution_count": null,
   "id": "7227e96f-a2c7-44e1-89f0-918439f8a4b9",
   "metadata": {},
   "outputs": [],
   "source": [
    "total = df1.nr_recipes.sum()"
   ]
  },
  {
   "cell_type": "code",
   "execution_count": null,
   "id": "d4567066-0ae1-47e1-b620-9c21b51b8530",
   "metadata": {},
   "outputs": [],
   "source": [
    "df['percentages'] = (df.counts/total*100).round(1)"
   ]
  },
  {
   "cell_type": "code",
   "execution_count": null,
   "id": "5b36ee1e-b175-471d-8604-56ea896423b5",
   "metadata": {},
   "outputs": [],
   "source": [
    "df.head(1)"
   ]
  },
  {
   "cell_type": "code",
   "execution_count": null,
   "id": "2c6f852c-7962-4522-8e17-d028f9bd5c64",
   "metadata": {},
   "outputs": [],
   "source": [
    "dff = df.iloc[:5]\n",
    "ing = dff.T\n",
    "ing.columns = ing.iloc[0]\n",
    "ing1 = ing.iloc[4:24].reset_index().rename(columns={'index': 'year'})"
   ]
  },
  {
   "cell_type": "code",
   "execution_count": null,
   "id": "6ff11e46-bfc5-48d3-abc6-6d4b1d343d67",
   "metadata": {},
   "outputs": [],
   "source": [
    "ing1"
   ]
  },
  {
   "cell_type": "code",
   "execution_count": null,
   "id": "bc2c8b85-1a05-478e-a90d-77ac47a390f5",
   "metadata": {},
   "outputs": [],
   "source": [
    "melt = ing1.melt(id_vars='year', value_name='recipes_number')\n",
    "ing_per = ing1.loc[:, 'butter':].apply(lambda x: x/df1.nr_recipes.iloc[:-1]*100).fillna(0)\n",
    "ing_per = ing_per.round(1)\n",
    "ing_per['year'] = ing1.year\n",
    "melt_perc = ing_per.melt(id_vars='year', value_name='recipes_percentage')\n",
    "melt['recipes_percentage'] = melt_perc['recipes_percentage']\n",
    "melt['recipes_number'] = melt.loc[:, 'recipes_number'].astype(int)"
   ]
  },
  {
   "cell_type": "code",
   "execution_count": null,
   "id": "89006647-277b-4460-b114-9c4c6f87aa04",
   "metadata": {},
   "outputs": [],
   "source": [
    "# melt1 = melt[melt.ingredients.isin(['onion', 'garlic', 'butter', 'banana'])]"
   ]
  },
  {
   "cell_type": "code",
   "execution_count": null,
   "id": "d0470b3b-7c35-4f3e-b2ea-71b097da10c7",
   "metadata": {},
   "outputs": [],
   "source": [
    "colors = ['#8dd3c7','#bc80bd','#fb8072','#b3de69','#fdb462']\n",
    "\n",
    "fig = px.scatter(melt, x=\"year\", y=\"recipes_percentage\", size='recipes_number', \n",
    "                 color='ingredients', size_max=40, template='ggplot2', color_discrete_sequence=colors)\n",
    "fig.update_layout(margin={\"r\":0,\"t\":0,\"l\":0,\"b\":0}, yaxis_title='Recipes %', xaxis_title='Year')\n",
    "fig.show()"
   ]
  },
  {
   "cell_type": "code",
   "execution_count": null,
   "id": "11b7abd3-d658-4064-9fec-25822a808132",
   "metadata": {},
   "outputs": [],
   "source": [
    "ing1.head(5)"
   ]
  },
  {
   "cell_type": "code",
   "execution_count": null,
   "id": "22968880-bf4d-4e86-a68f-73471fb11703",
   "metadata": {},
   "outputs": [],
   "source": []
  },
  {
   "cell_type": "code",
   "execution_count": null,
   "id": "c8ed3731-6167-46e8-b79f-a992747b1251",
   "metadata": {},
   "outputs": [],
   "source": [
    "df1.head()"
   ]
  },
  {
   "cell_type": "code",
   "execution_count": null,
   "id": "bc28ee0d-a4c1-46aa-b6ce-59760a89d3d3",
   "metadata": {},
   "outputs": [],
   "source": [
    "\n",
    "fig = px.area(df1, x='year', y='nr_recipes', color_discrete_sequence=['#bc80bd'], template='ggplot2')\n",
    "fig.update_layout(margin={\"r\":0,\"t\":0,\"l\":0,\"b\":0}, yaxis_title='Number of Recipes', xaxis_title='Year')\n",
    "fig.show()"
   ]
  },
  {
   "cell_type": "code",
   "execution_count": null,
   "id": "51a79e9c-90cf-42b2-bc79-49b3745b150e",
   "metadata": {},
   "outputs": [],
   "source": [
    "#https://plotly.com/python/continuous-error-bars/\n",
    "\n",
    "fig = go.Figure([\n",
    "    go.Scatter(\n",
    "        name='Average',\n",
    "        x=df1['year'],\n",
    "        y=df1['ingredients_avrg'],\n",
    "        mode='lines',\n",
    "        line=dict(color='#fb8072', width=4),\n",
    "    ),\n",
    "    go.Scatter(\n",
    "        name='Upper Bound',\n",
    "        x=df1['year'],\n",
    "        y=df1['ingredients_avrg']+df1['ingredients_std'],\n",
    "        mode='lines',\n",
    "        marker=dict(color=\"#444\"),\n",
    "        line=dict(width=0),\n",
    "        showlegend=False\n",
    "    ),\n",
    "    go.Scatter(\n",
    "        name='Lower Bound',\n",
    "        x=df1['year'],\n",
    "        y=df1['ingredients_avrg']-df1['ingredients_std'],\n",
    "        marker=dict(color='#fb8072'),\n",
    "        line=dict(width=0),\n",
    "        mode='lines',\n",
    "        fillcolor='rgba(252, 205, 229, 0.4)',\n",
    "        fill='tonexty',\n",
    "        showlegend=False\n",
    "    )\n",
    "])\n",
    "fig.update_layout(\n",
    "    xaxis_title='Year',\n",
    "    yaxis_title='Number of Ingredients',\n",
    "    title='Average number of Ingredients per Recipe',\n",
    "    hovermode=\"x\", template='ggplot2',\n",
    ")\n",
    "fig.show()"
   ]
  },
  {
   "cell_type": "code",
   "execution_count": null,
   "id": "a0374b05-16a5-4236-93c5-f2c7d6683214",
   "metadata": {},
   "outputs": [],
   "source": [
    "df1.shape"
   ]
  },
  {
   "cell_type": "code",
   "execution_count": null,
   "id": "30e0a595-b7b6-4c01-8ed6-1530404453c6",
   "metadata": {},
   "outputs": [],
   "source": [
    "fig = go.Figure([\n",
    "    go.Scatter(\n",
    "        name='Average',\n",
    "        x=df1['year'],\n",
    "        y=df1['calories_median'],\n",
    "        mode='lines',\n",
    "        line=dict(color='#fb8072', width=4),\n",
    "    ),\n",
    "    go.Scatter(\n",
    "        name='Upper Bound',\n",
    "        x=df1['year'],\n",
    "        y=df1['calories_median']+df1['calories_std'],\n",
    "        mode='lines',\n",
    "        marker=dict(color=\"#444\"),\n",
    "        line=dict(width=0),\n",
    "        showlegend=False\n",
    "    ),\n",
    "    go.Scatter(\n",
    "        name='Lower Bound',\n",
    "        x=df1['year'],\n",
    "        y=df1['calories_median']-df1['calories_std'],\n",
    "        marker=dict(color='#fdb462'),\n",
    "        line=dict(width=0),\n",
    "        mode='lines',\n",
    "        fillcolor='rgba(255, 255, 179, 0.5)',\n",
    "        fill='tonexty',\n",
    "        showlegend=False\n",
    "    )\n",
    "])\n",
    "fig.update_layout(\n",
    "    xaxis_title='Year',\n",
    "    yaxis_title='Calories',\n",
    "    title='Median Calories per Recipe',\n",
    "    hovermode=\"x\", template='ggplot2',\n",
    ")\n",
    "fig.show()"
   ]
  },
  {
   "cell_type": "code",
   "execution_count": null,
   "id": "53a93b79-200e-4c2b-a292-670723633571",
   "metadata": {},
   "outputs": [],
   "source": []
  },
  {
   "cell_type": "code",
   "execution_count": null,
   "id": "b78851e2-0537-44f4-baea-ef8b0cf781a1",
   "metadata": {},
   "outputs": [],
   "source": []
  },
  {
   "cell_type": "code",
   "execution_count": null,
   "id": "bc5aa5b5-c3ed-49d7-85a5-9657939859f7",
   "metadata": {},
   "outputs": [],
   "source": [
    "data = df.iloc[:5]\n",
    "perc = data.percentages.apply(lambda x: str(x) + ' %')\n",
    "perc.name = 'percent'\n",
    "data = pd.concat([data, perc], axis=1)"
   ]
  },
  {
   "cell_type": "code",
   "execution_count": null,
   "id": "9ce567b3-1b5a-4658-8967-e0b497ca19cb",
   "metadata": {},
   "outputs": [],
   "source": [
    "df"
   ]
  },
  {
   "cell_type": "code",
   "execution_count": null,
   "id": "caaaa86a-045b-4aec-82ad-bc73b4ad8c48",
   "metadata": {},
   "outputs": [],
   "source": [
    "colors = ['#8dd3c7','#ffffb3','#bebada','#fb8072','#80b1d3','#fdb462','#b3de69','#fccde5','#d9d9d9','#bc80bd','#ccebc5','#ffed6f']\n",
    "\n",
    "sns.color_palette(colors)"
   ]
  },
  {
   "cell_type": "code",
   "execution_count": null,
   "id": "862df422-2428-4070-b56a-f45806ae9628",
   "metadata": {},
   "outputs": [],
   "source": [
    "for name, x, y in zip(data.ingredients, data.counts, range(data.shape[0])):\n",
    "    print(name, x, y)"
   ]
  },
  {
   "cell_type": "code",
   "execution_count": null,
   "id": "b992a1e6-cad4-4764-a18a-7b611fe0cd53",
   "metadata": {},
   "outputs": [],
   "source": [
    "colors = ['#8dd3c7','#ffffb3','#bebada','#fb8072','#80b1d3','#fdb462','#b3de69','#fccde5','#d9d9d9','#bc80bd','#ccebc5','#ffed6f']\n",
    "fig = go.Figure(go.Funnel(\n",
    "    y = data.ingredients,\n",
    "    x = data.counts,\n",
    "    textposition = \"inside\",\n",
    "    text = data.percent,\n",
    "    opacity = 0.65, marker = {\"color\": ['#fb8072', '#bc80bd', '#8dd3c7', '#bebada', '#ffffb3'],\n",
    "    },\n",
    "    connector = {\"line\": {\"color\": \"royalblue\", \"dash\": \"dot\", \"width\": 1}})\n",
    "    )\n",
    "for name, x, y in zip(data.ingredients, data.counts, range(data.shape[0])):\n",
    "    fig.add_annotation(x=-x/2.6, y=y,\n",
    "                text=name, showarrow=False)\n",
    "fig.update_layout({'plot_bgcolor': 'rgba(0, 0, 0, 0)', 'paper_bgcolor': 'rgba(0, 0, 0, 0)'},\n",
    "                  margin={\"r\":5,\"t\":5,\"l\":5,\"b\":5}, xaxis_title='Year',font={'size':16})\n",
    "fig.layout.yaxis.showticklabels = False\n",
    "fig.show()"
   ]
  },
  {
   "cell_type": "code",
   "execution_count": null,
   "id": "f3067f5f-9c38-4f92-9d6c-8e55be91a3d6",
   "metadata": {},
   "outputs": [],
   "source": [
    "df.to_csv('../data/ingredient_data.csv', index=False)"
   ]
  },
  {
   "cell_type": "code",
   "execution_count": null,
   "id": "d81473dc-9202-4585-8358-49c5a5456318",
   "metadata": {},
   "outputs": [],
   "source": [
    "df"
   ]
  },
  {
   "cell_type": "code",
   "execution_count": null,
   "id": "c6c2c541-7488-4b47-8629-907c2883a956",
   "metadata": {},
   "outputs": [],
   "source": []
  }
 ],
 "metadata": {
  "kernelspec": {
   "display_name": "Python 3 (ipykernel)",
   "language": "python",
   "name": "python3"
  },
  "language_info": {
   "codemirror_mode": {
    "name": "ipython",
    "version": 3
   },
   "file_extension": ".py",
   "mimetype": "text/x-python",
   "name": "python",
   "nbconvert_exporter": "python",
   "pygments_lexer": "ipython3",
   "version": "3.9.7"
  }
 },
 "nbformat": 4,
 "nbformat_minor": 5
}
