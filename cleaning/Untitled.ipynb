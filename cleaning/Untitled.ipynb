{
 "cells": [
  {
   "cell_type": "code",
   "execution_count": 2,
   "id": "2e128de9-9908-46ce-a6ff-bdc01d48fce9",
   "metadata": {},
   "outputs": [
    {
     "ename": "NameError",
     "evalue": "name 'app' is not defined",
     "output_type": "error",
     "traceback": [
      "\u001b[1;31m---------------------------------------------------------------------------\u001b[0m",
      "\u001b[1;31mNameError\u001b[0m                                 Traceback (most recent call last)",
      "\u001b[1;32m~\\AppData\\Local\\Temp/ipykernel_16080/3440642617.py\u001b[0m in \u001b[0;36m<module>\u001b[1;34m\u001b[0m\n\u001b[0;32m     23\u001b[0m \u001b[1;33m\u001b[0m\u001b[0m\n\u001b[0;32m     24\u001b[0m \u001b[1;33m\u001b[0m\u001b[0m\n\u001b[1;32m---> 25\u001b[1;33m @app.callback(\n\u001b[0m\u001b[0;32m     26\u001b[0m     \u001b[0mOutput\u001b[0m\u001b[1;33m(\u001b[0m\u001b[1;34m\"counter\"\u001b[0m\u001b[1;33m,\u001b[0m \u001b[1;34m\"children\"\u001b[0m\u001b[1;33m)\u001b[0m\u001b[1;33m,\u001b[0m \u001b[1;33m[\u001b[0m\u001b[0mInput\u001b[0m\u001b[1;33m(\u001b[0m\u001b[1;34m\"button-item\"\u001b[0m\u001b[1;33m,\u001b[0m \u001b[1;34m\"n_clicks\"\u001b[0m\u001b[1;33m)\u001b[0m\u001b[1;33m]\u001b[0m\u001b[1;33m\u001b[0m\u001b[1;33m\u001b[0m\u001b[0m\n\u001b[0;32m     27\u001b[0m )\n",
      "\u001b[1;31mNameError\u001b[0m: name 'app' is not defined"
     ]
    }
   ],
   "source": [
    "import dash_bootstrap_components as dbc\n",
    "from dash import Input, Output, html\n",
    "\n",
    "list_group = html.Div(\n",
    "    [\n",
    "        dbc.ListGroup(\n",
    "            [\n",
    "                dbc.ListGroupItem(\n",
    "                    \"Internal link\", href=\"/l/components/list_group\"\n",
    "                ),\n",
    "                dbc.ListGroupItem(\"External link\", href=\"https://google.com\"),\n",
    "                dbc.ListGroupItem(\n",
    "                    \"Disabled link\", href=\"https://google.com\", disabled=True\n",
    "                ),\n",
    "                dbc.ListGroupItem(\n",
    "                    \"Button\", id=\"button-item\", n_clicks=0, action=True\n",
    "                ),\n",
    "            ]\n",
    "        ),\n",
    "        html.P(id=\"counter\"),\n",
    "    ]\n",
    ")\n",
    "\n",
    "\n",
    "@app.callback(\n",
    "    Output(\"counter\", \"children\"), [Input(\"button-item\", \"n_clicks\")]\n",
    ")\n",
    "def count_clicks(n):\n",
    "    return f\"Button clicked {n} times\""
   ]
  },
  {
   "cell_type": "code",
   "execution_count": null,
   "id": "f29f74bd-8617-4127-b49e-7464852447fc",
   "metadata": {},
   "outputs": [],
   "source": []
  }
 ],
 "metadata": {
  "kernelspec": {
   "display_name": "Python 3 (ipykernel)",
   "language": "python",
   "name": "python3"
  },
  "language_info": {
   "codemirror_mode": {
    "name": "ipython",
    "version": 3
   },
   "file_extension": ".py",
   "mimetype": "text/x-python",
   "name": "python",
   "nbconvert_exporter": "python",
   "pygments_lexer": "ipython3",
   "version": "3.9.7"
  }
 },
 "nbformat": 4,
 "nbformat_minor": 5
}
