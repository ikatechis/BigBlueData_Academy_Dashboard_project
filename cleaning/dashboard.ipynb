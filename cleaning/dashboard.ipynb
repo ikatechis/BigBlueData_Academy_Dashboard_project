{
 "cells": [
  {
   "cell_type": "code",
   "execution_count": null,
   "id": "dbca1aef-8e9c-420d-86a1-cb30006ab4aa",
   "metadata": {},
   "outputs": [],
   "source": [
    "import pandas as pd\n",
    "import numpy as np\n",
    "import matplotlib.pyplot as plt\n",
    "import seaborn as sns\n",
    "from jupyter_dash import JupyterDash\n",
    "from dash import dcc\n",
    "from dash import html\n",
    "from dash.dependencies import Input, Output\n",
    "import dash.dependencies\n",
    "import plotly.express as px\n",
    "import plotly.graph_objects as go"
   ]
  },
  {
   "cell_type": "code",
   "execution_count": null,
   "id": "aa390242-f02f-4d31-857c-0f20ee8a5cb2",
   "metadata": {},
   "outputs": [],
   "source": [
    "pd.options.mode.chained_assignment = None\n",
    "pd.options.display.max_columns = 50\n",
    "pd.options.display.max_colwidth = 80\n",
    "pd.options.display.max_rows = 100"
   ]
  },
  {
   "cell_type": "code",
   "execution_count": null,
   "id": "5758ae89-aefc-45e0-8240-9fb97d17faf4",
   "metadata": {},
   "outputs": [],
   "source": [
    "rec = pd.read_csv('../data/cleaned_2.csv')"
   ]
  },
  {
   "cell_type": "code",
   "execution_count": null,
   "id": "c92c2166-e42e-469b-8d27-0ac63aeb2067",
   "metadata": {},
   "outputs": [],
   "source": [
    "cuisine_opt = ['North American', 'Italian', 'European', 'Asian', 'South West Pacific', 'French', 'Indian', \n",
    "               'Greek', 'Chinese', 'Mexican', 'Thai', 'German', 'Spanish', 'Middle Eastern', 'South American', \n",
    "               'Japanese', 'Moroccan', 'Irish', 'African', 'Scandinavian', 'Scottish', 'Ontario', 'Russian', \n",
    "               'Pacific Northwest', 'Vietnamese', 'Australian', 'Polish', 'Swedish', 'Korean', 'Swiss', 'Turkish', \n",
    "               'Portuguese', 'Hungarian', 'South African', 'Persian', 'Filipino', 'Indonesian', 'English', \n",
    "               'Egyptian', 'Szechuan', 'Puerto Rican', 'Ethiopian', 'Caribbean']\n",
    "\n",
    "time_of_day_opt = ['Lunch', 'Dinner', 'Snack', 'Breakfast', 'Brunch']\n",
    "\n",
    "menu_opt = ['Main Dish', 'Dessert', 'Side Dish', 'Appetizer', 'Salad', 'Finger Food']\n",
    "\n",
    "type_opt = ['Snack', 'Pasta', 'Stew', 'Cake', 'Cookies', 'Crock Pot', 'Pie', 'Bread', 'Beverage', 'Dip', \n",
    "            'No Cook', 'Frozen', 'Cupcakes', 'Grill', 'Roast', 'Pizza', 'Steak', 'Sauce', 'Stir Fry', 'Deep Fry', \n",
    "            'Broil/Grill', 'Soup', 'Sandwich', 'Burger']\n",
    "\n",
    "special_opt = ['Party', 'Weeknight', 'Gifts', 'Picnic', 'Romantic', 'Thanksgiving', 'Barbecue', 'Easter', \n",
    "               'Christmas', 'Valentines Day', 'Wedding', 'Halloween', 'Camping', 'Birthday', 'New Years', \n",
    "               'St Patricks Day', 'Mothers Day', 'April Fools Day']\n",
    "\n",
    "health_opt = ['Kid Friendly', 'Toddler Friendly', 'Baby Friendly', 'Sugar Free', 'Low Sugar', 'Low Sodium', \n",
    "              'Low Protein', 'High Protein', 'Vegetarian', 'Vegan', 'No Meat', 'Low Fat', 'Low Saturated Fat', \n",
    "              'Fat Free', 'Low Carb', 'Very Low Carb', 'Carb Free', 'Low Calorie', 'Lactose Free', 'High Calcium', \n",
    "              'Healthy', 'Gluten Free', 'Egg Free', 'Diabetic Friendly', 'Low Cholesterol']\n",
    "\n",
    "other_opt = ['Light', 'Easy', 'Spicy', 'Served Hot', 'Served Cold', 'Summer', 'Fall', 'Winter', 'Spring', \n",
    "             '< 60 Mins', '< 30 Mins', '< 4 Hours', '< 15 Mins', '> 1 Day', 'Kid Friendly', 'Toddler Friendly', \n",
    "             'Baby Friendly', 'College', 'Comfort Food']"
   ]
  },
  {
   "cell_type": "code",
   "execution_count": null,
   "id": "715d2050-8f3c-46bd-a0d9-c91b156f745a",
   "metadata": {},
   "outputs": [],
   "source": [
    "rec.new_tags[4]"
   ]
  },
  {
   "cell_type": "code",
   "execution_count": null,
   "id": "c0fb50fb-6d8f-4dbd-b450-4e9a40cdf1e2",
   "metadata": {
    "tags": []
   },
   "outputs": [],
   "source": [
    "multi_dropdown1 = [] # or\n",
    "multi_dropdown2 = [] # or\n",
    "multi_dropdown3 = ['Cake'] # or\n",
    "multi_dropdown4 = [] # or\n",
    "multi_dropdown5 = ['< 15 Mins'] # or\n",
    "multi_dropdown6 = [] # and\n",
    "multi_dropdown7 = [] # and\n",
    "\n",
    "mask=pd.Series(np.ones(494949), dtype=bool) # Reset to all True mask\n",
    "\n",
    "# mask *= ... means 'and'\n",
    "\n",
    "if multi_dropdown1 != []:\n",
    "    mask *= rec.new_tags.str.contains('|'.join(multi_dropdown1),na=False) #  means 'or'\n",
    "if multi_dropdown2 != []:\n",
    "    mask *= rec.new_tags.str.contains('|'.join(multi_dropdown2),na=False)\n",
    "if multi_dropdown3 != []:\n",
    "    mask *= rec.new_tags.str.contains('|'.join(multi_dropdown3),na=False)\n",
    "if multi_dropdown4 != []:\n",
    "    mask *= rec.new_tags.str.contains('|'.join(multi_dropdown4),na=False)\n",
    "if multi_dropdown5 != []:\n",
    "    mask *= rec.new_tags.str.contains('|'.join(multi_dropdown5),na=False)\n",
    "if multi_dropdown6 != []:\n",
    "    mask *= np.all([rec.new_tags.str.contains(i,na=False) for i in multi_dropdown6], axis=0) #  means 'and'\n",
    "if multi_dropdown7 != []:\n",
    "    mask *= np.all([rec.new_tags.str.contains(i,na=False) for i in multi_dropdown7], axis=0)"
   ]
  },
  {
   "cell_type": "code",
   "execution_count": null,
   "id": "179855d6-845e-46cc-9384-fbae68bfaed3",
   "metadata": {},
   "outputs": [],
   "source": [
    "rec.first_image_url.value_counts()"
   ]
  },
  {
   "cell_type": "code",
   "execution_count": null,
   "id": "a395d3df-991b-44ca-b731-a1a3381e1ead",
   "metadata": {},
   "outputs": [],
   "source": [
    "%%timeit -n 1 -r 1\n",
    "rec.ingredients.str.contains(\"cabbage\")"
   ]
  },
  {
   "cell_type": "code",
   "execution_count": null,
   "id": "3c0a7c56-7ff5-4f4d-8305-cc79a5c43f02",
   "metadata": {},
   "outputs": [],
   "source": [
    "rec[mask]"
   ]
  },
  {
   "cell_type": "code",
   "execution_count": null,
   "id": "ff0bb4dc-0fa0-4d84-9d6c-962de9bbc4cc",
   "metadata": {},
   "outputs": [],
   "source": []
  }
 ],
 "metadata": {
  "kernelspec": {
   "display_name": "Python 3 (ipykernel)",
   "language": "python",
   "name": "python3"
  },
  "language_info": {
   "codemirror_mode": {
    "name": "ipython",
    "version": 3
   },
   "file_extension": ".py",
   "mimetype": "text/x-python",
   "name": "python",
   "nbconvert_exporter": "python",
   "pygments_lexer": "ipython3",
   "version": "3.8.8"
  }
 },
 "nbformat": 4,
 "nbformat_minor": 5
}
