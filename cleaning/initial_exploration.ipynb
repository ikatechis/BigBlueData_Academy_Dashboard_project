{
 "cells": [
  {
   "cell_type": "code",
   "execution_count": null,
   "id": "dbca1aef-8e9c-420d-86a1-cb30006ab4aa",
   "metadata": {},
   "outputs": [],
   "source": [
    "import pandas as pd\n",
    "import numpy as np\n",
    "import matplotlib.pyplot as plt\n",
    "import seaborn as sns"
   ]
  },
  {
   "cell_type": "code",
   "execution_count": null,
   "id": "aa390242-f02f-4d31-857c-0f20ee8a5cb2",
   "metadata": {},
   "outputs": [],
   "source": [
    "pd.options.display.max_columns = 50\n",
    "pd.options.display.max_colwidth = 80\n",
    "pd.options.display.max_rows = 50"
   ]
  },
  {
   "cell_type": "code",
   "execution_count": null,
   "id": "5758ae89-aefc-45e0-8240-9fb97d17faf4",
   "metadata": {},
   "outputs": [],
   "source": [
    "rec1 = pd.read_csv('../data/recipes.csv')"
   ]
  },
  {
   "cell_type": "code",
   "execution_count": null,
   "id": "5a113f54-24d3-4da5-b2f9-747a7890ff35",
   "metadata": {},
   "outputs": [],
   "source": [
    "rec1.rename({'RecipeId': 'id'}, axis=1, inplace=True)"
   ]
  },
  {
   "cell_type": "code",
   "execution_count": null,
   "id": "1400a73d-165d-42fa-88be-b44802da9d1e",
   "metadata": {},
   "outputs": [],
   "source": [
    "rec2 = pd.read_csv('../data/recipes_w_search_terms.csv')"
   ]
  },
  {
   "cell_type": "code",
   "execution_count": null,
   "id": "58f4838d-e432-4cfc-a856-47d6a532e6c0",
   "metadata": {},
   "outputs": [],
   "source": [
    "# rev = pd.read_csv('../data/reviews.csv')"
   ]
  },
  {
   "cell_type": "code",
   "execution_count": null,
   "id": "442bff8b-4096-4d49-9c02-612dccef5f0b",
   "metadata": {},
   "outputs": [],
   "source": [
    "rec = pd.merge(rec1, rec2, on='id')"
   ]
  },
  {
   "cell_type": "code",
   "execution_count": null,
   "id": "05a1c6b5",
   "metadata": {},
   "outputs": [],
   "source": [
    "rec_test.Keywords = rec_test.Keywords.values.astype(str)"
   ]
  },
  {
   "cell_type": "code",
   "execution_count": null,
   "id": "c9f08391-88ec-4538-9f34-0e31bf57624f",
   "metadata": {},
   "outputs": [],
   "source": [
    "rec_test.Keywords=rec_test.Keywords.str.split('\"')"
   ]
  },
  {
   "cell_type": "code",
   "execution_count": null,
   "id": "6ef99431-3789-4af8-856c-e754945d1131",
   "metadata": {},
   "outputs": [],
   "source": [
    "rec_test.Keywords.map(lambda x: len(x)).sort_values()"
   ]
  },
  {
   "cell_type": "code",
   "execution_count": null,
   "id": "aa3c1637-8283-4738-9790-604339e44929",
   "metadata": {},
   "outputs": [],
   "source": [
    "rec_test.search_terms[77772]"
   ]
  },
  {
   "cell_type": "code",
   "execution_count": null,
   "id": "f82388e5-9eed-4b2b-8770-fd3a7dd01383",
   "metadata": {},
   "outputs": [],
   "source": [
    "rec_test.Keywords"
   ]
  },
  {
   "cell_type": "code",
   "execution_count": null,
   "id": "3c62bed9-ecee-42a6-b2ad-04afc8642391",
   "metadata": {},
   "outputs": [],
   "source": [
    "rec[['Keywords','RecipeCategory', 'tags', 'search_terms']]"
   ]
  },
  {
   "cell_type": "code",
   "execution_count": null,
   "id": "6cd1b9e1-c0b0-4d1e-bc16-8079d5a09903",
   "metadata": {},
   "outputs": [],
   "source": [
    "rec.head(5)"
   ]
  },
  {
   "cell_type": "code",
   "execution_count": null,
   "id": "da2afcb0-f0c8-41c2-a84b-172435df2e65",
   "metadata": {},
   "outputs": [],
   "source": [
    "# https://data.world/alexandra/generic-food-database/workspace/file?filename=generic-food.csv\n",
    "foods = pd.read_csv('../data/generic-food.csv')"
   ]
  },
  {
   "cell_type": "code",
   "execution_count": null,
   "id": "28ab2422-9a1f-4e9f-bf67-070d04313301",
   "metadata": {},
   "outputs": [],
   "source": [
    "\n",
    "foods.GROUP.value_counts()"
   ]
  },
  {
   "cell_type": "code",
   "execution_count": null,
   "id": "ac09e565-62cf-4ba6-bff1-81dc36c09a9c",
   "metadata": {},
   "outputs": [],
   "source": [
    "foods.loc[foods.GROUP=='Animal foods', :]"
   ]
  },
  {
   "cell_type": "code",
   "execution_count": null,
   "id": "c9e447a7-3eb6-44ef-8a79-3c34b61f71f9",
   "metadata": {},
   "outputs": [],
   "source": []
  }
 ],
 "metadata": {
  "kernelspec": {
   "display_name": "Python 3 (ipykernel)",
   "language": "python",
   "name": "python3"
  },
  "language_info": {
   "codemirror_mode": {
    "name": "ipython",
    "version": 3
   },
   "file_extension": ".py",
   "mimetype": "text/x-python",
   "name": "python",
   "nbconvert_exporter": "python",
   "pygments_lexer": "ipython3",
   "version": "3.8.8"
  }
 },
 "nbformat": 4,
 "nbformat_minor": 5
}
