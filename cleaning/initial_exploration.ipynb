{
 "cells": [
  {
   "cell_type": "code",
   "execution_count": null,
   "id": "dbca1aef-8e9c-420d-86a1-cb30006ab4aa",
   "metadata": {},
   "outputs": [],
   "source": [
    "import pandas as pd\n",
    "import numpy as np\n",
    "import matplotlib.pyplot as plt\n",
    "import seaborn as sns"
   ]
  },
  {
   "cell_type": "code",
   "execution_count": null,
   "id": "aa390242-f02f-4d31-857c-0f20ee8a5cb2",
   "metadata": {},
   "outputs": [],
   "source": [
    "pd.options.display.max_columns = 50\n",
    "pd.options.display.max_colwidth = 50\n",
    "pd.options.display.max_rows = 50"
   ]
  },
  {
   "cell_type": "code",
   "execution_count": null,
   "id": "5758ae89-aefc-45e0-8240-9fb97d17faf4",
   "metadata": {},
   "outputs": [],
   "source": [
    "rec1 = pd.read_csv('../data/recipes.csv')"
   ]
  },
  {
   "cell_type": "code",
   "execution_count": null,
   "id": "5a113f54-24d3-4da5-b2f9-747a7890ff35",
   "metadata": {},
   "outputs": [],
   "source": [
    "rec1.rename({'RecipeId': 'id'}, axis=1, inplace=True)"
   ]
  },
  {
   "cell_type": "code",
   "execution_count": null,
   "id": "1400a73d-165d-42fa-88be-b44802da9d1e",
   "metadata": {},
   "outputs": [],
   "source": [
    "rec1.head(1)"
   ]
  },
  {
   "cell_type": "code",
   "execution_count": null,
   "id": "58823724-8728-4278-b3b4-185cb0498275",
   "metadata": {},
   "outputs": [],
   "source": [
    "rec2 = pd.read_csv('../data/recipes_w_search_terms.csv')"
   ]
  },
  {
   "cell_type": "code",
   "execution_count": null,
   "id": "442bff8b-4096-4d49-9c02-612dccef5f0b",
   "metadata": {},
   "outputs": [],
   "source": [
    "rec2.head(1)"
   ]
  },
  {
   "cell_type": "code",
   "execution_count": null,
   "id": "58f4838d-e432-4cfc-a856-47d6a532e6c0",
   "metadata": {},
   "outputs": [],
   "source": [
    "# rev = pd.read_csv('../data/reviews.csv')"
   ]
  },
  {
   "cell_type": "code",
   "execution_count": null,
   "id": "c9f08391-88ec-4538-9f34-0e31bf57624f",
   "metadata": {},
   "outputs": [],
   "source": [
    "rec1.shape, rec2.shape"
   ]
  },
  {
   "cell_type": "code",
   "execution_count": null,
   "id": "6ef99431-3789-4af8-856c-e754945d1131",
   "metadata": {},
   "outputs": [],
   "source": [
    "rec = pd.merge(rec1, rec2, on='id')"
   ]
  },
  {
   "cell_type": "code",
   "execution_count": null,
   "id": "827799c4-10cf-41aa-8f59-a626974e699a",
   "metadata": {},
   "outputs": [],
   "source": []
  },
  {
   "cell_type": "code",
   "execution_count": null,
   "id": "f82388e5-9eed-4b2b-8770-fd3a7dd01383",
   "metadata": {},
   "outputs": [],
   "source": [
    "rec.info()"
   ]
  },
  {
   "cell_type": "code",
   "execution_count": null,
   "id": "3c62bed9-ecee-42a6-b2ad-04afc8642391",
   "metadata": {},
   "outputs": [],
   "source": [
    "rec[['Keywords','RecipeCategory', 'tags', 'search_terms',]]"
   ]
  },
  {
   "cell_type": "code",
   "execution_count": null,
   "id": "f7bcb404-7ea1-4653-a278-33325f92f253",
   "metadata": {},
   "outputs": [],
   "source": []
  }
 ],
 "metadata": {
  "kernelspec": {
   "display_name": "Python 3 (ipykernel)",
   "language": "python",
   "name": "python3"
  },
  "language_info": {
   "codemirror_mode": {
    "name": "ipython",
    "version": 3
   },
   "file_extension": ".py",
   "mimetype": "text/x-python",
   "name": "python",
   "nbconvert_exporter": "python",
   "pygments_lexer": "ipython3",
   "version": "3.9.7"
  }
 },
 "nbformat": 4,
 "nbformat_minor": 5
}
