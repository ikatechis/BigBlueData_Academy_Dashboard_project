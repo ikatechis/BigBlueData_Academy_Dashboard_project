{
 "cells": [
  {
   "cell_type": "code",
   "execution_count": null,
   "id": "dbca1aef-8e9c-420d-86a1-cb30006ab4aa",
   "metadata": {},
   "outputs": [],
   "source": [
    "import pandas as pd\n",
    "import numpy as np\n",
    "import matplotlib.pyplot as plt\n",
    "import seaborn as sns"
   ]
  },
  {
   "cell_type": "code",
   "execution_count": null,
   "id": "aa390242-f02f-4d31-857c-0f20ee8a5cb2",
   "metadata": {},
   "outputs": [],
   "source": [
    "pd.options.display.max_columns = 50\n",
    "pd.options.display.max_colwidth = 80\n",
    "pd.options.display.max_rows = 50"
   ]
  },
  {
   "cell_type": "code",
   "execution_count": null,
   "id": "5758ae89-aefc-45e0-8240-9fb97d17faf4",
   "metadata": {},
   "outputs": [],
   "source": [
    "rec1 = pd.read_csv('../data/recipes.csv')"
   ]
  },
  {
   "cell_type": "code",
   "execution_count": null,
   "id": "5a113f54-24d3-4da5-b2f9-747a7890ff35",
   "metadata": {},
   "outputs": [],
   "source": [
    "rec1.rename({'RecipeId': 'id'}, axis=1, inplace=True)"
   ]
  },
  {
   "cell_type": "code",
   "execution_count": null,
   "id": "58823724-8728-4278-b3b4-185cb0498275",
   "metadata": {},
   "outputs": [],
   "source": [
    "rec2 = pd.read_csv('../data/recipes_w_search_terms.csv')"
   ]
  },
  {
   "cell_type": "code",
   "execution_count": null,
   "id": "58f4838d-e432-4cfc-a856-47d6a532e6c0",
   "metadata": {},
   "outputs": [],
   "source": [
    "# rev = pd.read_csv('../data/reviews.csv')"
   ]
  },
  {
   "cell_type": "code",
   "execution_count": null,
   "id": "6ef99431-3789-4af8-856c-e754945d1131",
   "metadata": {},
   "outputs": [],
   "source": [
    "rec = pd.merge(rec1, rec2, on='id')"
   ]
  },
  {
   "cell_type": "code",
   "execution_count": null,
   "id": "3c62bed9-ecee-42a6-b2ad-04afc8642391",
   "metadata": {
    "tags": []
   },
   "outputs": [],
   "source": [
    "# rec[['Keywords','RecipeCategory', 'tags', 'search_terms',]]"
   ]
  },
  {
   "cell_type": "code",
   "execution_count": null,
   "id": "073c4fdd-f36a-4f27-97ea-78e42b484cdf",
   "metadata": {
    "tags": []
   },
   "outputs": [],
   "source": [
    "rec_test= rec.copy()"
   ]
  },
  {
   "cell_type": "code",
   "execution_count": null,
   "id": "c922e08d-5311-49c7-8c00-be6132c66640",
   "metadata": {},
   "outputs": [],
   "source": [
    "rec_test.Keywords = rec_test.Keywords.values.astype(str)"
   ]
  },
  {
   "cell_type": "code",
   "execution_count": null,
   "id": "26b8e085-e930-4881-983d-487b5d770140",
   "metadata": {},
   "outputs": [],
   "source": [
    "rec_test.Keywords=rec_test.Keywords.str.split('\"')"
   ]
  },
  {
   "cell_type": "code",
   "execution_count": null,
   "id": "5d348d57-0616-4bd5-b24c-baf40b90b0e9",
   "metadata": {
    "tags": []
   },
   "outputs": [],
   "source": [
    "rec_test.Keywords.apply(lambda x: x.remove('c(') if 'c(' in x else x)\n",
    "rec_test.Keywords.apply(lambda x: x.remove(')') if ')' in x else x)\n",
    "rec_test.Keywords.apply(lambda x: x.remove('nan') if 'nan' in x else x)\n",
    "for i in range(40):\n",
    "    rec_test.Keywords.apply(lambda x: x.remove('') if '' in x else x)\n",
    "    rec_test.Keywords.apply(lambda x: x.remove(', ') if ', ' in x else x)"
   ]
  },
  {
   "cell_type": "code",
   "execution_count": null,
   "id": "42e580b6-5eaa-43f5-b2f7-060602afeebb",
   "metadata": {},
   "outputs": [],
   "source": [
    "rec_test.Keywords.map(lambda x: len(x)).sort_values()"
   ]
  },
  {
   "cell_type": "code",
   "execution_count": null,
   "id": "aa3c1637-8283-4738-9790-604339e44929",
   "metadata": {},
   "outputs": [],
   "source": [
    "rec_test.search_terms[77772]"
   ]
  },
  {
   "cell_type": "code",
   "execution_count": null,
   "id": "8bce9b41-84b0-49b2-8387-6b1c9ef70886",
   "metadata": {},
   "outputs": [],
   "source": [
    "rec_test.Keywords"
   ]
  },
  {
   "cell_type": "code",
   "execution_count": null,
   "id": "19fc46d6-b8ed-450a-9f6e-a1ab251d9b4a",
   "metadata": {
    "jupyter": {
     "outputs_hidden": true
    },
    "tags": []
   },
   "outputs": [],
   "source": [
    "set([x for y in rec_test.Keywords for x in y])"
   ]
  },
  {
   "cell_type": "code",
   "execution_count": null,
   "id": "ec14d36d-9984-4800-9363-5064a2c97e54",
   "metadata": {},
   "outputs": [],
   "source": []
  },
  {
   "cell_type": "code",
   "execution_count": null,
   "id": "924e36fb-2b31-4d47-a6e6-414d9c24a1d3",
   "metadata": {},
   "outputs": [],
   "source": [
    "rec.columns"
   ]
  },
  {
   "cell_type": "code",
   "execution_count": null,
   "id": "d8bef892-cf3c-45c5-af06-870d24ce8719",
   "metadata": {},
   "outputs": [],
   "source": []
  }
 ],
 "metadata": {
  "kernelspec": {
   "display_name": "Python 3 (ipykernel)",
   "language": "python",
   "name": "python3"
  },
  "language_info": {
   "codemirror_mode": {
    "name": "ipython",
    "version": 3
   },
   "file_extension": ".py",
   "mimetype": "text/x-python",
   "name": "python",
   "nbconvert_exporter": "python",
   "pygments_lexer": "ipython3",
   "version": "3.8.8"
  }
 },
 "nbformat": 4,
 "nbformat_minor": 5
}
