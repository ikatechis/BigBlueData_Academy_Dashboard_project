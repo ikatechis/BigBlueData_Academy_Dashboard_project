{
 "cells": [
  {
   "cell_type": "code",
   "execution_count": null,
   "id": "dbca1aef-8e9c-420d-86a1-cb30006ab4aa",
   "metadata": {},
   "outputs": [],
   "source": [
    "import pandas as pd\n",
    "import numpy as np\n",
    "pd.options.mode.chained_assignment = None"
   ]
  },
  {
   "cell_type": "code",
   "execution_count": null,
   "id": "aa390242-f02f-4d31-857c-0f20ee8a5cb2",
   "metadata": {},
   "outputs": [],
   "source": [
    "pd.options.display.max_columns = 50\n",
    "pd.options.display.max_colwidth = 80\n",
    "pd.options.display.max_rows = 50"
   ]
  },
  {
   "cell_type": "code",
   "execution_count": null,
   "id": "5758ae89-aefc-45e0-8240-9fb97d17faf4",
   "metadata": {},
   "outputs": [],
   "source": [
    "rec1 = pd.read_csv('../data/recipes.csv')"
   ]
  },
  {
   "cell_type": "code",
   "execution_count": null,
   "id": "5a113f54-24d3-4da5-b2f9-747a7890ff35",
   "metadata": {},
   "outputs": [],
   "source": [
    "rec1.rename({'RecipeId': 'id'}, axis=1, inplace=True)"
   ]
  },
  {
   "cell_type": "code",
   "execution_count": null,
   "id": "58823724-8728-4278-b3b4-185cb0498275",
   "metadata": {},
   "outputs": [],
   "source": [
    "rec2 = pd.read_csv('../data/recipes_w_search_terms.csv')"
   ]
  },
  {
   "cell_type": "code",
   "execution_count": null,
   "id": "6ef99431-3789-4af8-856c-e754945d1131",
   "metadata": {},
   "outputs": [],
   "source": [
    "rec_test = pd.merge(rec1, rec2, on='id')"
   ]
  },
  {
   "cell_type": "code",
   "execution_count": null,
   "id": "5d348d57-0616-4bd5-b24c-baf40b90b0e9",
   "metadata": {
    "tags": []
   },
   "outputs": [],
   "source": [
    "# Keywords to proper list\n",
    "rec_test.Keywords = rec_test.Keywords.values.astype(str)\n",
    "rec_test.Keywords = rec_test.Keywords.str.lower()\n",
    "rec_test.Keywords = rec_test.Keywords.str.replace('-',' ')\n",
    "rec_test.Keywords=rec_test.Keywords.str.split('\"')\n",
    "rec_test.Keywords.apply(lambda x: x.remove('c(') if 'c(' in x else x)\n",
    "rec_test.Keywords.apply(lambda x: x.remove(')') if ')' in x else x)\n",
    "rec_test.Keywords.apply(lambda x: x.remove('nan') if 'nan' in x else x)\n",
    "for i in range(2):\n",
    "    rec_test.Keywords.apply(lambda x: x.remove('') if '' in x else x)\n",
    "for i in range(35):\n",
    "    rec_test.Keywords.apply(lambda x: x.remove(', ') if ', ' in x else x)"
   ]
  },
  {
   "cell_type": "code",
   "execution_count": null,
   "id": "45239e11-d4a0-43d4-a455-b2d8f9e913b0",
   "metadata": {},
   "outputs": [],
   "source": [
    "# RecipeCategory to proper list\n",
    "rec_test.RecipeCategory = rec_test.RecipeCategory.values.astype(str)\n",
    "rec_test.RecipeCategory = rec_test.RecipeCategory.str.lower()\n",
    "rec_test.RecipeCategory = rec_test.RecipeCategory.str.replace('-',' ')\n",
    "rec_test.RecipeCategory = rec_test.RecipeCategory.str.split('value that will not be found')\n",
    "rec_test.RecipeCategory.apply(lambda x: x.remove('nan') if 'nan' in x else x)\n",
    "None"
   ]
  },
  {
   "cell_type": "code",
   "execution_count": null,
   "id": "6abbf7bc-2b20-4602-bd89-aefcc4ec37ae",
   "metadata": {
    "tags": []
   },
   "outputs": [],
   "source": [
    "# tags to proper list\n",
    "rec_test.tags = rec_test.tags.astype(str)\n",
    "rec_test.tags = rec_test.tags.str.lower()\n",
    "rec_test.tags = rec_test.tags.str.replace('-',' ')\n",
    "rec_test.tags=rec_test.tags.str.split(\"'\")\n",
    "rec_test.tags.apply(lambda x: x.remove('[') if '[' in x else x)\n",
    "rec_test.tags.apply(lambda x: x.remove(']') if ']' in x else x)\n",
    "rec_test.tags.apply(lambda x: x.remove('nan') if 'nan' in x else x)\n",
    "rec_test.tags.apply(lambda x: x.remove('') if '' in x else x)\n",
    "for i in range(80):\n",
    "    rec_test.tags.apply(lambda x: x.remove(', ') if ', ' in x else x)\n",
    "None"
   ]
  },
  {
   "cell_type": "code",
   "execution_count": null,
   "id": "6d03b928-5981-45a2-ba14-79c1fc3a0bf8",
   "metadata": {},
   "outputs": [],
   "source": [
    "# search_terms to proper list\n",
    "rec_test.search_terms = rec_test.search_terms.astype(str)\n",
    "rec_test.search_terms = rec_test.search_terms.str.lower()\n",
    "rec_test.search_terms = rec_test.search_terms.str.replace('-',' ')\n",
    "rec_test.search_terms = rec_test.search_terms.str.split(\"'\")\n",
    "rec_test.search_terms.apply(lambda x: x.remove('{') if '{' in x else x)\n",
    "rec_test.search_terms.apply(lambda x: x.remove('}') if '}' in x else x)\n",
    "for i in range(20):\n",
    "    rec_test.search_terms.apply(lambda x: x.remove(', ') if ', ' in x else x)"
   ]
  },
  {
   "cell_type": "code",
   "execution_count": null,
   "id": "1a95af64-db4b-492c-b848-a50461e51ee7",
   "metadata": {},
   "outputs": [],
   "source": [
    "# merge lists\n",
    "rec_test['all_tags'] = rec_test.RecipeCategory+rec_test.Keywords+rec_test.tags+rec_test.search_terms"
   ]
  },
  {
   "cell_type": "code",
   "execution_count": null,
   "id": "1363393a-4103-4794-8167-dcd79d381be7",
   "metadata": {},
   "outputs": [],
   "source": [
    "# remove duplicates\n",
    "rec_test.all_tags = rec_test.all_tags.apply(set)\n",
    "rec_test.all_tags = rec_test.all_tags.apply(list)"
   ]
  },
  {
   "cell_type": "code",
   "execution_count": null,
   "id": "8ab196d2-f9d1-48a4-8a8f-d38c8ee350b3",
   "metadata": {
    "tags": []
   },
   "outputs": [],
   "source": [
    "rec_test.all_tags.apply(lambda x: x.remove(' recipes') if ' recipes' in x else x)\n",
    "rec_test.all_tags.apply(lambda x: x.remove(' recipies') if ' recipies' in x else x)\n",
    "rec_test.all_tags.apply(lambda x: x.remove('less_thansql:name_topics_of_recipegreater_than') if 'less_thansql:name_topics_of_recipegreater_than' in x else x)\n",
    "rec_test.all_tags.apply(lambda x: x.remove('throw the ultimate fiesta with this sopaipillas recipe from food.com.') if 'throw the ultimate fiesta with this sopaipillas recipe from food.com.' in x else x)\n",
    "None"
   ]
  },
  {
   "cell_type": "code",
   "execution_count": null,
   "id": "37e76853-3e7c-4b7a-9c4b-4f5908f831ac",
   "metadata": {},
   "outputs": [],
   "source": [
    "# Create column Year Published\n",
    "rec_test['YearPublished']=rec_test.DatePublished.astype(str).str[:4]"
   ]
  },
  {
   "cell_type": "code",
   "execution_count": null,
   "id": "0ae779ca-b5fd-46ca-93ff-a9aa253c4ff8",
   "metadata": {},
   "outputs": [],
   "source": [
    "def in_list_replacer(mylist, findvalue, replacewith):\n",
    "    mylist = np.array(mylist)\n",
    "    return np.where(mylist == findvalue, replacewith, mylist)"
   ]
  },
  {
   "cell_type": "code",
   "execution_count": null,
   "id": "a06f5a2b-49b3-4686-ba94-1b0f3ae38a96",
   "metadata": {},
   "outputs": [],
   "source": [
    "rec_test.all_tags = rec_test.all_tags.apply(lambda x: in_list_replacer(x,' juice and zest of','juice and zest of'))\n",
    "rec_test.all_tags = rec_test.all_tags.apply(lambda x: in_list_replacer(x,'1 day or more','> 1 day'))\n",
    "rec_test.all_tags = rec_test.all_tags.apply(lambda x: in_list_replacer(x,'15 minutes or less','< 15 mins'))\n",
    "rec_test.all_tags = rec_test.all_tags.apply(lambda x: in_list_replacer(x,'30 minutes or less','< 30 mins'))\n",
    "rec_test.all_tags = rec_test.all_tags.apply(lambda x: in_list_replacer(x,'4 hours or less','< 4 hours'))\n",
    "rec_test.all_tags = rec_test.all_tags.apply(lambda x: in_list_replacer(x,'60 minutes or less','< 60 mins'))"
   ]
  },
  {
   "cell_type": "code",
   "execution_count": null,
   "id": "a84ccadb-5a3b-4aef-963a-c76a87786698",
   "metadata": {},
   "outputs": [],
   "source": [
    "# remove duplicates\n",
    "rec_test.all_tags = rec_test.all_tags.apply(set)\n",
    "rec_test.all_tags = rec_test.all_tags.apply(list)"
   ]
  },
  {
   "cell_type": "code",
   "execution_count": null,
   "id": "fa40f575-1ed1-4ed0-b6cf-abe08986a4d2",
   "metadata": {},
   "outputs": [],
   "source": [
    "# list to string\n",
    "rec_test['all_tags_string'] = [','.join(map(str, l)) for l in rec_test['all_tags']]"
   ]
  },
  {
   "cell_type": "code",
   "execution_count": null,
   "id": "d2aaddc2-4f77-4a76-9669-24dc9f1153e1",
   "metadata": {},
   "outputs": [],
   "source": [
    "# checkpoint and keep wanted columns\n",
    "sample = rec_test[['id', 'Name', 'AuthorId', 'AuthorName', 'CookTime', 'PrepTime',\n",
    "       'TotalTime', 'DatePublished','YearPublished', 'Description', 'Images',\n",
    "       'RecipeIngredientQuantities', 'RecipeIngredientParts',\n",
    "       'AggregatedRating', 'ReviewCount', 'Calories', 'FatContent',\n",
    "       'SaturatedFatContent', 'CholesterolContent', 'SodiumContent',\n",
    "       'CarbohydrateContent', 'FiberContent', 'SugarContent', 'ProteinContent',\n",
    "       'RecipeServings', 'RecipeYield', 'RecipeInstructions',\n",
    "       'ingredients', 'ingredients_raw_str', 'serving_size',\n",
    "       'servings', 'steps', 'all_tags_string']]"
   ]
  },
  {
   "cell_type": "code",
   "execution_count": null,
   "id": "5fe3ec5a-c7c8-4963-a083-5fa01016a8fd",
   "metadata": {},
   "outputs": [],
   "source": [
    "# import new columns to be created (make sure it's up to date)\n",
    "new_cols = pd.read_csv('../data/new_cols.csv')"
   ]
  },
  {
   "cell_type": "code",
   "execution_count": null,
   "id": "1db55470-0ef4-4032-9e49-afd15172fa00",
   "metadata": {},
   "outputs": [],
   "source": [
    "# create new columns for filtering\n",
    "for i in range(len(new_cols)):\n",
    "    mask = sample['all_tags_string'].str.contains(new_cols.original_tag[i])\n",
    "    sample.loc[mask, new_cols.column_name[i]]=new_cols.value[i]"
   ]
  },
  {
   "cell_type": "code",
   "execution_count": null,
   "id": "98688ee6-09a1-49db-953c-4821c82042e9",
   "metadata": {},
   "outputs": [],
   "source": [
    "rec = sample.copy()"
   ]
  },
  {
   "cell_type": "code",
   "execution_count": null,
   "id": "50e9693c-db30-473b-afad-3d984c5d42a6",
   "metadata": {},
   "outputs": [],
   "source": [
    "rec.Diet_Low_Calories.replace({'Low Calorie':'Low Calories'},inplace=True)\n",
    "\n",
    "rec.Children_Friendly.replace({'Toddler Friendly':'Toddler Friendly, Kid Friendly'},inplace=True)\n",
    "rec.Children_Friendly.replace({'Baby Friendly':'Baby Friendly, Toddler Friendly, Kid Friendly'},inplace=True)\n",
    "\n",
    "rec.Type.replace({'Hot Dog':''},inplace=True)\n",
    "\n",
    "rec.Diet_Low_Carb.replace({'Very Low Carb':'Very Low Carb, Low Carb'},inplace=True)\n",
    "rec.Diet_Low_Carb.replace({'Carb Free':'Carb Free, Very Low Carb, Low Carb'},inplace=True)\n",
    "\n",
    "rec.Diet_Low_Fat.replace({'Low Fat':'Low Fat, Low Saturated Fat'},inplace=True)\n",
    "rec.Diet_Low_Fat.replace({'Fat Free':'Fat Free, Low Fat, Low Saturated Fat'},inplace=True)\n",
    "\n",
    "rec.Diet_No_Meat.replace({'Vegetarian':'Vegetarian, No Meat'},inplace=True)\n",
    "rec.Diet_No_Meat.replace({'Vegan':'Vegan, Vegetarian, No Meat'},inplace=True)\n",
    "\n",
    "rec.Execution_Time.replace({'Quick':''},inplace=True)\n",
    "rec.Execution_Time.replace({'< 60 Mins':'< 60 Mins, < 4 Hours'},inplace=True)\n",
    "rec.Execution_Time.replace({'< 30 Mins':'< 30 Mins, < 60 Mins, < 4 Hours'},inplace=True)\n",
    "rec.Execution_Time.replace({'< 15 Mins':'< 15 Mins, < 30 Mins, < 60 Mins, < 4 Hours'},inplace=True)\n",
    "\n",
    "rec.Cuisine.replace({'Us Southern':'North American'},inplace=True)\n",
    "rec.Cuisine.replace({'Us Southwestern':'North American'},inplace=True)\n",
    "rec.Cuisine.replace({'Us Midwestern':'North American'},inplace=True)\n",
    "rec.Cuisine.replace({'Us Northeastern':'North American'},inplace=True)\n",
    "rec.Cuisine.replace({'American':'North American'},inplace=True)\n",
    "rec.Cuisine.replace({'Canadian':'North American'},inplace=True)\n",
    "rec.Cuisine.replace({'Brazilian':'South American'},inplace=True)"
   ]
  },
  {
   "cell_type": "code",
   "execution_count": null,
   "id": "e84771d2-8648-487a-b69b-9294728b84dc",
   "metadata": {},
   "outputs": [],
   "source": [
    "cols=['Type', 'Children_Friendly', 'Cuisine', 'Diet_Cholesterol', 'Diet_Diabetic_Friendly', 'Diet_Egg_Free', 'Diet_Gluten_Free', 'Diet_Healthy', 'Diet_High_Calcium', 'Diet_Lactose_Free', 'Diet_Light', 'Diet_Low_Calories', 'Diet_Low_Carb', 'Diet_Low_Fat', 'Diet_No_Meat', 'Diet_Protein', 'Diet_Sodium', 'Diet_Sugar', 'Easy_Difficulty', 'Execution_Time', 'Menu_Position', 'Season', 'Served_Temperature', 'Spicy', 'Theme', 'Theme_Special', 'Time_Of_Day']"
   ]
  },
  {
   "cell_type": "code",
   "execution_count": null,
   "id": "9e70d420-2017-4bcd-a8eb-39967fcfad74",
   "metadata": {},
   "outputs": [],
   "source": [
    "rec['new_tags'] = rec[cols].apply(lambda x: x.str.cat(sep=', '), axis=1)"
   ]
  },
  {
   "cell_type": "code",
   "execution_count": null,
   "id": "67b6c26e-c5d2-4d01-ab6f-c573a24744db",
   "metadata": {},
   "outputs": [],
   "source": [
    "for i in range(30):\n",
    "    rec.new_tags = rec.new_tags.str.replace(', , ', ', ', regex=True)"
   ]
  },
  {
   "cell_type": "code",
   "execution_count": null,
   "id": "99b11252-8656-41ff-bc05-fc64b1298231",
   "metadata": {},
   "outputs": [],
   "source": [
    "rec.new_tags = rec.new_tags.str.replace('\\A, ', '', regex=True)\n",
    "rec.new_tags = rec.new_tags.str.replace(', \\Z', '', regex=True)"
   ]
  },
  {
   "cell_type": "code",
   "execution_count": null,
   "id": "0385cea6-8884-449b-bcf7-920a26163400",
   "metadata": {},
   "outputs": [],
   "source": [
    "rec=rec[['id', 'Name', 'AuthorId', 'AuthorName', 'CookTime',\n",
    "       'PrepTime', 'TotalTime', 'DatePublished', 'YearPublished',\n",
    "       'Description', 'Images', 'RecipeIngredientQuantities',\n",
    "       'RecipeIngredientParts', 'AggregatedRating', 'ReviewCount', 'Calories',\n",
    "       'FatContent', 'SaturatedFatContent', 'CholesterolContent',\n",
    "       'SodiumContent', 'CarbohydrateContent', 'FiberContent', 'SugarContent',\n",
    "       'ProteinContent', 'RecipeServings', 'RecipeYield', 'RecipeInstructions',\n",
    "       'ingredients', 'ingredients_raw_str', 'serving_size', 'servings',\n",
    "       'steps', 'all_tags_string', 'new_tags']]"
   ]
  },
  {
   "cell_type": "code",
   "execution_count": null,
   "id": "a15f4eec-5790-49e6-824b-d49bd90c8005",
   "metadata": {},
   "outputs": [],
   "source": [
    "rec['normalized_rating']=rec.AggregatedRating*rec.ReviewCount/rec.ReviewCount.max()"
   ]
  },
  {
   "cell_type": "code",
   "execution_count": null,
   "id": "47ee86d9-d50b-479b-8eac-599365bb8ace",
   "metadata": {},
   "outputs": [],
   "source": [
    "rec['first_image_url']=rec.Images.str.extract(r'(?<=\")(.*?)(?=\")')"
   ]
  },
  {
   "cell_type": "code",
   "execution_count": null,
   "id": "067ded15-de64-4b6b-9780-a760b303d31f",
   "metadata": {},
   "outputs": [],
   "source": [
    "# cleaned_2.csv checkpoint\n",
    "# rec = pd.read_csv('../data/cleaned_2.csv')"
   ]
  },
  {
   "cell_type": "code",
   "execution_count": null,
   "id": "ce48f6b6-6ee8-4977-bac4-c8b4bfeaed1f",
   "metadata": {},
   "outputs": [],
   "source": [
    "# create unique name column\n",
    "rec['id_name'] = rec.id.map(str)+'- '+rec.Name"
   ]
  },
  {
   "cell_type": "code",
   "execution_count": null,
   "id": "acbfe348-4724-47d9-b177-a0f7971bd7f4",
   "metadata": {},
   "outputs": [],
   "source": [
    "# columns of recommended daily intake % per serving\n",
    "rec['calories_daily_perc'] = rec.Calories*100/2000\n",
    "rec['fat_daily_perc'] = rec.FatContent*100/60\n",
    "rec['satfat_daily_perc'] = rec.SaturatedFatContent*100/20\n",
    "rec['chol_daily_perc'] = rec.CholesterolContent*100/300\n",
    "rec['sodium_daily_perc'] = rec.SodiumContent*100/2300\n",
    "rec['carbon_daily_perc'] = rec.CarbohydrateContent*100/275\n",
    "rec['fiber_daily_perc'] = rec.FiberContent*100/35\n",
    "rec['sugar_daily_perc'] = rec.SugarContent*100/30\n",
    "rec['protein_daily_perc'] = rec.ProteinContent*100/50"
   ]
  },
  {
   "cell_type": "code",
   "execution_count": null,
   "id": "7f7f1f2e-8800-4325-be0f-7238d66aea08",
   "metadata": {},
   "outputs": [],
   "source": [
    "rec=rec[['id', 'Name', 'id_name',\n",
    "       'YearPublished', \n",
    "       'first_image_url',\n",
    "       'RecipeInstructions',\n",
    "       'ingredients_raw_str',\n",
    "       'new_tags', 'normalized_rating',\n",
    "       'calories_daily_perc', 'fat_daily_perc', 'satfat_daily_perc',\n",
    "       'chol_daily_perc', 'sodium_daily_perc', 'carbon_daily_perc',\n",
    "       'fiber_daily_perc', 'sugar_daily_perc', 'protein_daily_perc']]"
   ]
  },
  {
   "cell_type": "code",
   "execution_count": null,
   "id": "b8dd1a6e-422c-4b12-8854-f01e54c68fae",
   "metadata": {},
   "outputs": [],
   "source": [
    "rec.to_csv('cleaned_3.csv', index=False)"
   ]
  },
  {
   "cell_type": "code",
   "execution_count": null,
   "id": "f4ad945e-647f-41b4-b231-03bef445cde4",
   "metadata": {},
   "outputs": [],
   "source": [
    "rec.columns"
   ]
  },
  {
   "cell_type": "code",
   "execution_count": null,
   "id": "4b65fec0-301b-4be6-8eda-f80f04bc3033",
   "metadata": {},
   "outputs": [],
   "source": []
  }
 ],
 "metadata": {
  "kernelspec": {
   "display_name": "Python 3 (ipykernel)",
   "language": "python",
   "name": "python3"
  },
  "language_info": {
   "codemirror_mode": {
    "name": "ipython",
    "version": 3
   },
   "file_extension": ".py",
   "mimetype": "text/x-python",
   "name": "python",
   "nbconvert_exporter": "python",
   "pygments_lexer": "ipython3",
   "version": "3.8.8"
  }
 },
 "nbformat": 4,
 "nbformat_minor": 5
}
